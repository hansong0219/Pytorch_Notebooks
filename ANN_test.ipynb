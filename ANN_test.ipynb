{
 "cells": [
  {
   "cell_type": "markdown",
   "id": "nominated-contact",
   "metadata": {},
   "source": [
    "# ANN 인공신경망 구현"
   ]
  },
  {
   "cell_type": "code",
   "execution_count": 1,
   "id": "resident-resource",
   "metadata": {},
   "outputs": [],
   "source": [
    "import torch\n",
    "import numpy\n",
    "import matplotlib.pyplot as plt\n",
    "from sklearn.datasets import make_blobs\n",
    "import torch.nn.functional as F"
   ]
  },
  {
   "cell_type": "markdown",
   "id": "temporal-quest",
   "metadata": {},
   "source": [
    "생물학적 신경 세포는 인접한 신경세포로 자극을 전달하기 전, 입력받은 자극에 여러 화학적 처리를 가한다. 이와 비슷하게 인공신경망은 입력층으로 신호를 받아 은닉층을 지나 출력층으로 전달된다.\n",
    "이때 매개변수인 가중치에 행렬곱시키고 편향을 더해주어 수학 연산을 실행한다.\n",
    "가중치는 입력신호가 신호에 출력에 주는 여향을 계산하는 매개변수이고, 편향은 각 노드가 얼마나 데이터에 민감한지 알려주는 매개변수이다.\n",
    "이 행렬곱의 결과는 활성화 함수를 거쳐 출력층으로 연결된다. 활성화 함수는 입력신호의 합이 활성화를 일으키는지 아닌지를 정하는 역할을 한다.\n",
    "결과값과 정답을 비교하여 오차를 계산하고 이 오차를 기반으로 가중치를 뒤에서 부터 차례대로 경사하강법을 활용하여 변경 시킨다. \n",
    "이렇게 겹겹이 쌓인 가중치를 뒤에서 부터 차례대로 조정하고 최적화하는 알고리즘을 역전파라고 한다.\n",
    "\n",
    "아래에서는 간단한 인공지능 모델을 Pytorch 를 이용하여 구현하는 방법을 다룬다."
   ]
  },
  {
   "cell_type": "code",
   "execution_count": 2,
   "id": "olympic-interest",
   "metadata": {},
   "outputs": [],
   "source": [
    "n_dim = 2 \n",
    "#make_blob() 함수는 예제용 데이터셋을 만들어주는 함수로 실행때마다 랜덤한 데이터셋을 생성한다.\n",
    "x_train, y_train = make_blobs(n_samples=80, n_features=n_dim, centers=[[1,1],[-1,-1],[1,-1],[-1,1]], shuffle=True, cluster_std=0.3)\n",
    "x_test, y_test = make_blobs(n_samples=20, n_features=n_dim, centers=[[1,1],[-1,-1],[1,-1],[-1,1]], shuffle=True, cluster_std=0.3)"
   ]
  },
  {
   "cell_type": "code",
   "execution_count": 3,
   "id": "charming-neutral",
   "metadata": {},
   "outputs": [],
   "source": [
    "# 아래의 함수의 역할은 레이블을 변경해준다. \n",
    "\n",
    "def label_map(y_, from_, to_):\n",
    "    y = numpy.copy(y_)\n",
    "    for f in from_:\n",
    "        y[y_ == f] = to_\n",
    "    return y"
   ]
  },
  {
   "cell_type": "code",
   "execution_count": 4,
   "id": "immediate-exemption",
   "metadata": {},
   "outputs": [],
   "source": [
    "y_train = label_map(y_train, [0,1],0)\n",
    "y_train = label_map(y_train, [2,3],1)\n",
    "y_test = label_map(y_test, [0,1], 0)\n",
    "y_test = label_map(y_test, [2,3], 1)"
   ]
  },
  {
   "cell_type": "code",
   "execution_count": 5,
   "id": "applicable-smoke",
   "metadata": {},
   "outputs": [],
   "source": [
    "# 데이터 시각화 함수\n",
    "def vis_data(x,y=None,c='r'):\n",
    "    if y is None:\n",
    "        y= [None]*len(x)\n",
    "    for x_, y_ in zip(x,y):\n",
    "        if y_ is None:\n",
    "            plt.plot(x_[0], x_[1], '*', markerfacecolor = 'none', markeredgecolor=c)\n",
    "        else:\n",
    "            plt.plot(x_[0], x_[1],  c+'o' if y_==0 else c+'+')"
   ]
  },
  {
   "cell_type": "code",
   "execution_count": 6,
   "id": "successful-finish",
   "metadata": {},
   "outputs": [
    {
     "data": {
      "image/png": "[encoded data removed]",
      "text/plain": [
       "<Figure size 432x288 with 1 Axes>"
      ]
     },
     "metadata": {
      "needs_background": "light"
     },
     "output_type": "display_data"
    }
   ],
   "source": [
    "plt.figure()\n",
    "vis_data(x_train, y_train, c='r')\n",
    "plt.show()"
   ]
  },
  {
   "cell_type": "code",
   "execution_count": 7,
   "id": "concrete-distinction",
   "metadata": {},
   "outputs": [],
   "source": [
    "x_train = torch.FloatTensor(x_train)\n",
    "x_test = torch.FloatTensor(x_test)\n",
    "y_train = torch.FloatTensor(y_train)\n",
    "y_test = torch.FloatTensor(y_test)"
   ]
  },
  {
   "cell_type": "code",
   "execution_count": 8,
   "id": "provincial-revelation",
   "metadata": {},
   "outputs": [],
   "source": [
    "class NeuralNet(torch.nn.Module):\n",
    "    def __init__(self, input_size, hidden_size):\n",
    "        super(NeuralNet, self).__init__()\n",
    "        self.input_size = input_size\n",
    "        self.hidden_size = hidden_size\n",
    "        \n",
    "        # 모델 층 구성 정의\n",
    "        self.linear_1 = torch.nn.Linear(self.input_size, self.hidden_size) # 입력층, 은닉층 연결\n",
    "        self.relu = torch.nn.ReLU()\n",
    "        self.linear_2 = torch.nn.Linear(self.hidden_size,1) # 은닉층 출력 연결\n",
    "        self.sigmoid = torch.nn.Sigmoid()\n",
    "        \n",
    "    def forward(self, input_tensor):\n",
    "        linear1 = self.linear_1(input_tensor)\n",
    "        relu = self.relu(linear1) # 입력 층 이후 ReLU 연산\n",
    "        linear2 = self.linear_2(relu)\n",
    "        output = self.sigmoid(linear2) # 은닉 층과 출력층 이후 activation sigmoid 연산\n",
    "        \n",
    "        return output"
   ]
  },
  {
   "cell_type": "code",
   "execution_count": 9,
   "id": "minor-boring",
   "metadata": {},
   "outputs": [],
   "source": [
    "model = NeuralNet(2,5) \n",
    "learning_rate = 0.03\n",
    "criterion = torch.nn.BCELoss() #Binary Cross Entropy 를 뜻함"
   ]
  },
  {
   "cell_type": "code",
   "execution_count": 10,
   "id": "clinical-bennett",
   "metadata": {},
   "outputs": [],
   "source": [
    "epochs = 2000\n",
    "optimizer = torch.optim.SGD(model.parameters(),lr = learning_rate) # optimizer 설정"
   ]
  },
  {
   "cell_type": "code",
   "execution_count": 11,
   "id": "favorite-mitchell",
   "metadata": {},
   "outputs": [
    {
     "name": "stdout",
     "output_type": "stream",
     "text": [
      "Before Training, test loss is 0.7518996000289917\n"
     ]
    }
   ],
   "source": [
    "#학습 이전 오차 \n",
    "model.eval()\n",
    "test_loss_before = criterion(model(x_test).squeeze(), y_test) \n",
    "print('Before Training, test loss is {}'.format(test_loss_before.item())) "
   ]
  },
  {
   "cell_type": "code",
   "execution_count": 12,
   "id": "weighted-thesis",
   "metadata": {},
   "outputs": [
    {
     "name": "stdout",
     "output_type": "stream",
     "text": [
      "train loss at 0 is 0.74812251329422\n",
      "train loss at 100 is 0.6420758962631226\n",
      "train loss at 200 is 0.570119321346283\n",
      "train loss at 300 is 0.475761741399765\n",
      "train loss at 400 is 0.36479997634887695\n",
      "train loss at 500 is 0.2549900412559509\n",
      "train loss at 600 is 0.1733483225107193\n",
      "train loss at 700 is 0.1219056025147438\n",
      "train loss at 800 is 0.09019182622432709\n",
      "train loss at 900 is 0.06982238590717316\n",
      "train loss at 1000 is 0.0560687854886055\n",
      "train loss at 1100 is 0.04635481908917427\n",
      "train loss at 1200 is 0.03922347351908684\n",
      "train loss at 1300 is 0.033817026764154434\n",
      "train loss at 1400 is 0.02963530644774437\n",
      "train loss at 1500 is 0.02632465958595276\n",
      "train loss at 1600 is 0.023629602044820786\n",
      "train loss at 1700 is 0.02139904722571373\n",
      "train loss at 1800 is 0.019525514915585518\n",
      "train loss at 1900 is 0.01793241687119007\n"
     ]
    }
   ],
   "source": [
    "for epoch in range(epochs):\n",
    "    model.train()\n",
    "    optimizer.zero_grad() # 경사값 초기화\n",
    "    train_output = model(x_train)\n",
    "    train_loss = criterion(train_output.squeeze(), y_train)\n",
    "    \n",
    "    if epoch%100==0:\n",
    "        print('train loss at {} is {}'.format(epoch, train_loss.item()))\n",
    "        \n",
    "    train_loss.backward() # 역전파\n",
    "    optimizer.step()"
   ]
  },
  {
   "cell_type": "code",
   "execution_count": 13,
   "id": "figured-purple",
   "metadata": {},
   "outputs": [
    {
     "name": "stdout",
     "output_type": "stream",
     "text": [
      "After Training, test loss is 0.009544003754854202\n"
     ]
    }
   ],
   "source": [
    "model.eval()\n",
    "test_loss_before = criterion(model(x_test).squeeze(), y_test) \n",
    "print('After Training, test loss is {}'.format(test_loss_before.item())) "
   ]
  },
  {
   "cell_type": "code",
   "execution_count": 14,
   "id": "acknowledged-female",
   "metadata": {},
   "outputs": [
    {
     "name": "stdout",
     "output_type": "stream",
     "text": [
      "state_dict format of the model: OrderedDict([('linear_1.weight', tensor([[ 1.5817, -1.3395],\n",
      "        [-1.2866,  1.5612],\n",
      "        [ 1.7158,  1.6176],\n",
      "        [-1.3690, -1.3705],\n",
      "        [-0.0735, -0.1284]])), ('linear_1.bias', tensor([ 0.1319,  0.2192, -0.1339,  0.0150, -0.3354])), ('linear_2.weight', tensor([[ 1.8549,  1.8871, -2.2239, -1.8328, -0.2781]])), ('linear_2.bias', tensor([-0.0701]))])\n"
     ]
    }
   ],
   "source": [
    "torch.save(model.state_dict(), './ANN.pt') #model.pt 형태로 파일 저장\n",
    "print('state_dict format of the model: {}'.format(model.state_dict()))"
   ]
  },
  {
   "cell_type": "code",
   "execution_count": 15,
   "id": "completed-edmonton",
   "metadata": {},
   "outputs": [
    {
     "data": {
      "text/plain": [
       "<All keys matched successfully>"
      ]
     },
     "execution_count": 15,
     "metadata": {},
     "output_type": "execute_result"
    }
   ],
   "source": [
    "# 모델 불러오기\n",
    "new_model = NeuralNet(2,5)\n",
    "new_model.load_state_dict(torch.load('./ANN.pt'))"
   ]
  },
  {
   "cell_type": "code",
   "execution_count": 16,
   "id": "wound-semester",
   "metadata": {},
   "outputs": [
    {
     "name": "stdout",
     "output_type": "stream",
     "text": [
      "벡터 [-1, 1] 이 레이블 1을 가질 확률은 0.9966411590576172\n"
     ]
    }
   ],
   "source": [
    "new_model.eval()\n",
    "print('벡터 [-1, 1] 이 레이블 1을 가질 확률은 {}'.format(new_model(torch.FloatTensor([-1,1])).item()))"
   ]
  },
  {
   "cell_type": "code",
   "execution_count": null,
   "id": "black-partition",
   "metadata": {},
   "outputs": [],
   "source": []
  }
 ],
 "metadata": {
  "kernelspec": {
   "display_name": "Python 3",
   "language": "python",
   "name": "python3"
  },
  "language_info": {
   "codemirror_mode": {
    "name": "ipython",
    "version": 3
   },
   "file_extension": ".py",
   "mimetype": "text/x-python",
   "name": "python",
   "nbconvert_exporter": "python",
   "pygments_lexer": "ipython3",
   "version": "3.7.7"
  }
 },
 "nbformat": 4,
 "nbformat_minor": 5
}
